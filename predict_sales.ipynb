{
  "cells": [
    {
      "metadata": {},
      "cell_type": "markdown",
      "source": [
        "# Team Captain - M5 Accuracy: Sales Prediction"
      ]
    },
    {
      "metadata": {},
      "cell_type": "code",
      "source": [
        "import catboost\n",
        "\n",
        "import config\n",
        "import utility"
      ],
      "execution_count": 0,
      "outputs": []
    },
    {
      "metadata": {},
      "cell_type": "code",
      "source": [
        "regressor = catboost.CatBoostRegressor()\n",
        "regressor.load_model(str(config.model_path / 'catboost_regressor.cbm'))"
      ],
      "execution_count": 0,
      "outputs": []
    },
    {
      "metadata": {},
      "cell_type": "code",
      "source": [
        "calendar = utility.read_calendar(config.m5_path / 'calendar.csv')"
      ],
      "execution_count": 0,
      "outputs": []
    },
    {
      "metadata": {},
      "cell_type": "code",
      "source": [
        "sales_data = utility.read_sales_data(config.m5_path / 'sales_train_validation.csv')"
      ],
      "execution_count": 0,
      "outputs": []
    },
    {
      "metadata": {},
      "cell_type": "code",
      "source": [
        "start_day = 1913  # calendar is 0-based\n",
        "days = range(start_day, start_day + 28)"
      ],
      "execution_count": 0,
      "outputs": []
    }
  ],
  "metadata": {},
  "nbformat": 4,
  "nbformat_minor": 4
}
