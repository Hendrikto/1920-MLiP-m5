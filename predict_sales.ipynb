{
  "cells": [
    {
      "metadata": {},
      "cell_type": "markdown",
      "source": [
        "# Team Captain - M5 Accuracy: Sales Prediction"
      ]
    },
    {
      "metadata": {},
      "cell_type": "code",
      "source": [
        "import catboost\n",
        "\n",
        "import config\n",
        "import prepare_data\n",
        "import utility"
      ],
      "execution_count": 0,
      "outputs": []
    },
    {
      "metadata": {},
      "cell_type": "code",
      "source": [
        "regressor = catboost.CatBoostRegressor()\n",
        "regressor.load_model(str(config.model_path / 'catboost_regressor.cbm'))"
      ],
      "execution_count": 0,
      "outputs": []
    },
    {
      "metadata": {},
      "cell_type": "code",
      "source": [
        "calendar = utility.read_calendar(config.m5_path / 'calendar.csv')"
      ],
      "execution_count": 0,
      "outputs": []
    },
    {
      "metadata": {},
      "cell_type": "code",
      "source": [
        "sales_data = utility.read_sales_data(config.m5_path / 'sales_train_validation.csv')"
      ],
      "execution_count": 0,
      "outputs": []
    },
    {
      "metadata": {},
      "cell_type": "code",
      "source": [
        "def predict(start_day):\n",
        "    days = range(start_day, start_day + 28)\n",
        "\n",
        "    data = prepare_data.generate_prediction_data(sales_data, calendar, days)\n",
        "\n",
        "    predictions = regressor.predict(data)\n",
        "    predictions = predictions.reshape(28, -1).T\n",
        "\n",
        "    predictions[predictions < 0] = 0\n",
        "\n",
        "    return predictions"
      ],
      "execution_count": 0,
      "outputs": []
    },
    {
      "metadata": {},
      "cell_type": "code",
      "source": [
        "# calendar is 0-based\n",
        "predictions_evaluation = predict(1941)\n",
        "predictions_validation = predict(1913)"
      ],
      "execution_count": 0,
      "outputs": []
    },
    {
      "metadata": {},
      "cell_type": "code",
      "source": [
        "utility.save_predictions(\n",
        "    predictions_evaluation,\n",
        "    predictions_validation,\n",
        "    sales_data.id\n",
        ")"
      ],
      "execution_count": 0,
      "outputs": []
    }
  ],
  "metadata": {},
  "nbformat": 4,
  "nbformat_minor": 4
}
