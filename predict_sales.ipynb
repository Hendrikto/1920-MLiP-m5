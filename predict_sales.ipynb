{
  "cells": [
    {
      "metadata": {},
      "cell_type": "markdown",
      "source": [
        "# Team Captain - M5 Accuracy: Sales Prediction"
      ]
    },
    {
      "metadata": {},
      "cell_type": "code",
      "source": [
        "import catboost\n",
        "import numpy as np\n",
        "\n",
        "import config\n",
        "import prepare_data\n",
        "import utility"
      ],
      "execution_count": 0,
      "outputs": []
    },
    {
      "metadata": {},
      "cell_type": "code",
      "source": [
        "regressor = catboost.CatBoostRegressor()\n",
        "regressor.load_model(str(config.model_path / 'catboost_regressor.cbm'))"
      ],
      "execution_count": 0,
      "outputs": []
    },
    {
      "metadata": {},
      "cell_type": "code",
      "source": [
        "calendar = utility.read_calendar(config.m5_path / 'calendar.csv')"
      ],
      "execution_count": 0,
      "outputs": []
    },
    {
      "metadata": {},
      "cell_type": "code",
      "source": [
        "sales_data = utility.read_sales_data(config.m5_path / 'sales_train_validation.csv')"
      ],
      "execution_count": 0,
      "outputs": []
    },
    {
      "metadata": {},
      "cell_type": "code",
      "source": [
        "prices = utility.read_prices(config.m5_path / 'sell_prices.csv')"
      ],
      "execution_count": 0,
      "outputs": []
    },
    {
      "metadata": {},
      "cell_type": "code",
      "source": [
        "from tqdm.notebook import tqdm\n",
        "def calculate_rolling_mean(data, n_products, n_days, window_size=28):\n",
        "    column = f'rmean{window_size}_sales'\n",
        "    data[column] = float('nan')\n",
        "    for i in tqdm(range(n_products), desc=f'window size = {window_size}'):\n",
        "        data[column][i::n_products] = (\n",
        "            sales_data\n",
        "            .iloc[i, -(n_days + window_size):]\n",
        "            .rolling(window_size, min_periods=1)\n",
        "            .mean()\n",
        "            [-n_days:]\n",
        "            .values\n",
        "        )"
      ],
      "execution_count": 0,
      "outputs": []
    },
    {
      "metadata": {},
      "cell_type": "code",
      "source": [
        "def predict(start_day, n_days):\n",
        "    days = range(start_day, start_day + n_days)\n",
        "    n_products = len(sales_data)\n",
        "\n",
        "    data = prepare_data.generate_prediction_data(sales_data, calendar, prices, days)\n",
        "    prepare_data.cat2int(data)\n",
        "    calculate_rolling_mean(data, n_products, n_days, 7)\n",
        "    calculate_rolling_mean(data, n_products, n_days, 14)\n",
        "    calculate_rolling_mean(data, n_products, n_days, 28)\n",
        "\n",
        "    predictions = regressor.predict(data)\n",
        "    predictions = predictions.reshape(n_days, -1).T\n",
        "\n",
        "    np.round(predictions, out=predictions)\n",
        "\n",
        "    predictions[predictions < 0] = 0\n",
        "\n",
        "    return predictions"
      ],
      "execution_count": 0,
      "outputs": []
    },
    {
      "metadata": {},
      "cell_type": "code",
      "source": [
        "# calendar is 0-based\n",
        "predictions_evaluation = predict(1941, 28)\n",
        "predictions_validation = predict(1913, 28)"
      ],
      "execution_count": 0,
      "outputs": []
    },
    {
      "metadata": {},
      "cell_type": "code",
      "source": [
        "utility.save_predictions(\n",
        "    predictions_evaluation,\n",
        "    predictions_validation,\n",
        "    sales_data.id\n",
        ")"
      ],
      "execution_count": 0,
      "outputs": []
    }
  ],
  "metadata": {},
  "nbformat": 4,
  "nbformat_minor": 4
}
