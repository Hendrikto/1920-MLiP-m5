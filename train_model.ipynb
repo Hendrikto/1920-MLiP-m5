{
  "cells": [
    {
      "metadata": {},
      "cell_type": "markdown",
      "source": [
        "# Team Captain - M5 Accuracy: Model Training"
      ]
    },
    {
      "metadata": {},
      "cell_type": "code",
      "source": [
        "import catboost\n",
        "import pandas as pd\n",
        "\n",
        "import config\n",
        "import prepare_data\n",
        "import utility"
      ],
      "execution_count": 0,
      "outputs": []
    },
    {
      "metadata": {},
      "cell_type": "code",
      "source": [
        "data = pd.read_pickle(config.data_path / 'dataframe.zip')\n",
        "X = data[list(config.feature_names[:-1])]\n",
        "y = data['sales']"
      ],
      "execution_count": 0,
      "outputs": []
    },
    {
      "metadata": {},
      "cell_type": "code",
      "source": [
        "# CatBoost is extremely picky about the data types it accepts\u2026\n",
        "prepare_data.cat2int(X)"
      ],
      "execution_count": 0,
      "outputs": []
    },
    {
      "metadata": {},
      "cell_type": "code",
      "source": [
        "regressor = catboost.CatBoostRegressor(\n",
        "    iterations=100,\n",
        "    cat_features=config.feature_names_categorical,\n",
        ")"
      ],
      "execution_count": 0,
      "outputs": []
    },
    {
      "metadata": {},
      "cell_type": "code",
      "source": [
        "points_per_day = 30_490\n",
        "points_per_week = points_per_day * 7\n",
        "points_per_year = points_per_day * 365"
      ],
      "execution_count": 0,
      "outputs": []
    },
    {
      "metadata": {},
      "cell_type": "code",
      "source": [
        "regressor.fit(\n",
        "    X[-(points_per_year + points_per_week):-points_per_week],\n",
        "    y[-(points_per_year + points_per_week):-points_per_week],\n",
        "    eval_set=(X[-points_per_week:], y[-points_per_week:]),\n",
        "    plot=True,\n",
        ")"
      ],
      "execution_count": 0,
      "outputs": []
    },
    {
      "metadata": {},
      "cell_type": "code",
      "source": [
        "regressor.get_feature_importance(prettified=True)"
      ],
      "execution_count": 0,
      "outputs": []
    },
    {
      "metadata": {},
      "cell_type": "code",
      "source": [
        "regressor.save_model('catboost_regressor.cbm')"
      ],
      "execution_count": 0,
      "outputs": []
    }
  ],
  "metadata": {},
  "nbformat": 4,
  "nbformat_minor": 4
}
