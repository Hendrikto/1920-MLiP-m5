{
  "cells": [
    {
      "metadata": {},
      "cell_type": "markdown",
      "source": [
        "# Team Captain - M5 Accuracy: Model Training"
      ]
    },
    {
      "metadata": {},
      "cell_type": "code",
      "source": [
        "import catboost\n",
        "\n",
        "import config\n",
        "import utility"
      ],
      "execution_count": 0,
      "outputs": []
    },
    {
      "metadata": {},
      "cell_type": "code",
      "source": [
        "data = utility.read_arrays(config.data_path / 'data_i16.zip')\n",
        "X = data['features']\n",
        "y = data['labels']"
      ],
      "execution_count": 0,
      "outputs": []
    },
    {
      "metadata": {},
      "cell_type": "code",
      "source": [
        "regressor = catboost.CatBoostRegressor(\n",
        "    iterations=100,\n",
        "    cat_features=[config.feature_index[feature] for feature in config.feature_names_categorical],\n",
        ")"
      ],
      "execution_count": 0,
      "outputs": []
    },
    {
      "metadata": {},
      "cell_type": "code",
      "source": [
        "points_per_day = 30_490\n",
        "points_per_week = points_per_day * 7\n",
        "points_per_year = points_per_day * 365"
      ],
      "execution_count": 0,
      "outputs": []
    },
    {
      "metadata": {},
      "cell_type": "code",
      "source": [
        "regressor.fit(\n",
        "    X[-(points_per_year + points_per_week):-points_per_week],\n",
        "    y[-(points_per_year + points_per_week):-points_per_week],\n",
        "    eval_set=(X[-points_per_week:], y[-points_per_week:]),\n",
        "    plot=True,\n",
        ")"
      ],
      "execution_count": 0,
      "outputs": []
    },
    {
      "metadata": {},
      "cell_type": "code",
      "source": [
        "regressor.save_model('catboost_regressor.cbm')"
      ],
      "execution_count": 0,
      "outputs": []
    }
  ],
  "metadata": {},
  "nbformat": 4,
  "nbformat_minor": 4
}
