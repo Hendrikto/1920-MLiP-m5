{
  "cells": [
    {
      "metadata": {},
      "cell_type": "markdown",
      "source": [
        "# Team Captain - M5 Accuracy: Model Training"
      ]
    },
    {
      "metadata": {},
      "cell_type": "code",
      "source": [
        "import config\n",
        "import utility"
      ],
      "execution_count": 0,
      "outputs": []
    },
    {
      "metadata": {},
      "cell_type": "code",
      "source": [
        "data = utility.read_arrays(config.data_path / 'data_i16.zip')\n",
        "X = data['features']\n",
        "y = data['labels']"
      ],
      "execution_count": 0,
      "outputs": []
    }
  ],
  "metadata": {},
  "nbformat": 4,
  "nbformat_minor": 4
}
