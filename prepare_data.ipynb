{
  "cells": [
    {
      "metadata": {},
      "cell_type": "markdown",
      "source": [
        "# Team Captain - M5 Accuracy: Data Preparation"
      ]
    },
    {
      "metadata": {},
      "cell_type": "markdown",
      "source": [
        "In this notebook, the data is converted to a day by day representation, which we can use as data points for non time-series specific models, such as CatBoost."
      ]
    },
    {
      "metadata": {},
      "cell_type": "code",
      "source": [
        "import config\n",
        "import prepare_data\n",
        "import utility"
      ],
      "execution_count": 0,
      "outputs": []
    },
    {
      "metadata": {},
      "cell_type": "code",
      "source": [
        "sales_data = utility.read_sales_data(config.m5_path / 'sales_train_validation.csv')"
      ],
      "execution_count": 0,
      "outputs": []
    },
    {
      "metadata": {},
      "cell_type": "code",
      "source": [
        "calendar = utility.read_calendar(config.m5_path / 'calendar.csv')"
      ],
      "execution_count": 0,
      "outputs": []
    },
    {
      "metadata": {},
      "cell_type": "code",
      "source": [
        "prices = utility.read_prices(config.m5_path / 'sell_prices.csv')"
      ],
      "execution_count": 0,
      "outputs": []
    },
    {
      "metadata": {},
      "cell_type": "code",
      "source": [
        "data = prepare_data.generate_data(sales_data, calendar, dtype='int16')\n",
        "data"
      ],
      "execution_count": 0,
      "outputs": []
    },
    {
      "metadata": {},
      "cell_type": "code",
      "source": [
        "utility.save_arrays('data_i16.zip', features=data[:, :-1], labels=data[:, -1])"
      ],
      "execution_count": 0,
      "outputs": []
    },
    {
      "metadata": {},
      "cell_type": "code",
      "source": [
        "data = data.astype('float32')\n",
        "data"
      ],
      "execution_count": 0,
      "outputs": []
    },
    {
      "metadata": {},
      "cell_type": "code",
      "source": [
        "utility.save_arrays('data_f32.zip', features=data[:, :-1], labels=data[:, -1])"
      ],
      "execution_count": 0,
      "outputs": []
    },
    {
      "metadata": {},
      "cell_type": "code",
      "source": [
        "df = prepare_data.generate_data_frame(sales_data, calendar, prices)\n",
        "df"
      ],
      "execution_count": 0,
      "outputs": []
    },
    {
      "metadata": {},
      "cell_type": "code",
      "source": [
        "df.to_pickle('dataframe.zip')"
      ],
      "execution_count": 0,
      "outputs": []
    }
  ],
  "metadata": {},
  "nbformat": 4,
  "nbformat_minor": 4
}
