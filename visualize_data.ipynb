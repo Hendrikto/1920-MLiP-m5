{
  "cells": [
    {
      "metadata": {},
      "cell_type": "markdown",
      "source": [
        "# Team Captain - M5 Accuracy: Visualization"
      ]
    },
    {
      "metadata": {},
      "cell_type": "code",
      "source": [
        "import matplotlib.pyplot as plt\n",
        "\n",
        "import config\n",
        "import utility"
      ],
      "execution_count": 0,
      "outputs": []
    },
    {
      "metadata": {},
      "cell_type": "code",
      "source": [
        "sales_data = utility.read_sales_data(config.m5_path / 'sales_train_validation.csv')"
      ],
      "execution_count": 0,
      "outputs": []
    },
    {
      "metadata": {},
      "cell_type": "code",
      "source": [
        "n_days = int(sales_data.columns[-1].split('_')[1])"
      ],
      "execution_count": 0,
      "outputs": []
    },
    {
      "metadata": {},
      "cell_type": "markdown",
      "source": [
        "## Historical Sales Data"
      ]
    },
    {
      "metadata": {},
      "cell_type": "code",
      "source": [
        "def mean_sales(category):\n",
        "    return sales_data[sales_data.cat_id == category].loc[:, 'd_1':].mean(axis=0)"
      ],
      "execution_count": 0,
      "outputs": []
    },
    {
      "metadata": {},
      "cell_type": "code",
      "source": [
        "mean_food_sales = mean_sales('FOODS')\n",
        "mean_hobbies_sales = mean_sales('HOBBIES')\n",
        "mean_household_sales = mean_sales('HOUSEHOLD')"
      ],
      "execution_count": 0,
      "outputs": []
    },
    {
      "metadata": {},
      "cell_type": "code",
      "source": [
        "x_ticks = range(0, n_days, 100)\n",
        "\n",
        "plt.figure(figsize=(20, 5))\n",
        "plt.title('Historical Mean Sales')\n",
        "plt.xlabel('day')\n",
        "plt.ylabel('mean sales')\n",
        "plt.xlim(-10, n_days + 10)\n",
        "plt.xticks(x_ticks, x_ticks)\n",
        "plt.plot(mean_food_sales, color='r', label='food', alpha=0.75)\n",
        "plt.plot(mean_hobbies_sales, color='g', label='hobbies', alpha=0.75)\n",
        "plt.plot(mean_household_sales, color='b', label='household', alpha=0.75)\n",
        "plt.legend()\n",
        "plt.tight_layout()\n",
        "plt.savefig('sales_data_history.pdf')\n",
        "plt.show()\n",
        "plt.close()"
      ],
      "execution_count": 0,
      "outputs": []
    }
  ],
  "metadata": {},
  "nbformat": 4,
  "nbformat_minor": 4
}
